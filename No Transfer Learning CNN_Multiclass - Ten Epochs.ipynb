{
 "cells": [
  {
   "cell_type": "markdown",
   "id": "3287fcd0",
   "metadata": {},
   "source": [
    "# Multiclass Image classification using Convolution Neural Network"
   ]
  },
  {
   "cell_type": "markdown",
   "id": "03966247",
   "metadata": {},
   "source": [
    "## Importing library"
   ]
  },
  {
   "cell_type": "code",
   "execution_count": 1,
   "id": "9af4a2f6",
   "metadata": {},
   "outputs": [],
   "source": [
    "import tensorflow as tf\n",
    "from keras.models import Sequential, Model\n",
    "from keras.layers import Conv2D, MaxPooling2D,GlobalAveragePooling2D\n",
    "from keras.layers import Activation, Dropout, BatchNormalization, Flatten, Dense, AvgPool2D,MaxPool2D\n",
    "from tensorflow.keras.layers import Dense, GlobalAveragePooling2D\n",
    "from tensorflow.keras.applications import VGG16\n",
    "from keras.models import Sequential, Model\n",
    "from keras.applications.vgg16 import VGG16, preprocess_input\n",
    "from keras.optimizers import Adam, SGD, RMSprop\n",
    "from tensorflow.keras.preprocessing.image import ImageDataGenerator\n",
    "import numpy as np\n",
    "import pandas as pd\n",
    "import seaborn as sns\n",
    "import matplotlib.pyplot as plt\n",
    "import os\n",
    "import cv2"
   ]
  },
  {
   "cell_type": "code",
   "execution_count": 2,
   "id": "fe9155d3",
   "metadata": {},
   "outputs": [
    {
     "data": {
      "text/plain": [
       "['handicap sign', 'stop sign', 'us speed limit sign', 'yield sign']"
      ]
     },
     "execution_count": 2,
     "metadata": {},
     "output_type": "execute_result"
    }
   ],
   "source": [
    "DATASET_DIR = os.listdir(\"signs\") \n",
    "DATASET_DIR"
   ]
  },
  {
   "cell_type": "code",
   "execution_count": 3,
   "id": "158562f2",
   "metadata": {},
   "outputs": [],
   "source": [
    "labels=['handicap sign', 'stop sign', 'us speed limit sign', 'yield sign']"
   ]
  },
  {
   "cell_type": "markdown",
   "id": "fff98661",
   "metadata": {},
   "source": [
    "### Each folder total image count"
   ]
  },
  {
   "cell_type": "code",
   "execution_count": 4,
   "id": "3af5c42c",
   "metadata": {},
   "outputs": [
    {
     "name": "stdout",
     "output_type": "stream",
     "text": [
      "['signs\\\\handicap sign', 'signs\\\\stop sign', 'signs\\\\us speed limit sign', 'signs\\\\yield sign']\n",
      "length : 1011\n",
      "length : 1000\n",
      "length : 1232\n",
      "length : 1079\n"
     ]
    }
   ],
   "source": [
    "\n",
    "DIR = \"signs\" # path\n",
    "link = []\n",
    "for label in labels:\n",
    "    path = os.path.join(DIR, label) # combine path and labels\n",
    "    link.append(path) # append in link\n",
    "print(link)\n",
    "\n",
    "\n",
    "for i in range(len(link)):\n",
    "    new = os.listdir(link[i])\n",
    "    i+=1\n",
    "    print(f\"length : {len(new)}\") # each folder total image count "
   ]
  },
  {
   "cell_type": "code",
   "execution_count": 5,
   "id": "975c509d",
   "metadata": {},
   "outputs": [],
   "source": [
    "IMG_SIZE = 224 # image size\n",
    "\n",
    "data = [] \n",
    "\n",
    "def get_data(data_dir):\n",
    "    for category in labels:\n",
    "        path = os.path.join(data_dir, category) #combine path\n",
    "        class_num = labels.index(category) # index no of labels\n",
    "        for img in os.listdir(path):\n",
    "            try:\n",
    "                img_array = cv2.imread(os.path.join(path, img), cv2.IMREAD_COLOR) # color image array\n",
    "                resized_array = cv2.resize(img_array, (IMG_SIZE, IMG_SIZE)) # resize\n",
    "                data.append([resized_array, class_num])\n",
    "            except Exception as e: # exception\n",
    "                print(e)\n",
    "    return data "
   ]
  },
  {
   "cell_type": "code",
   "execution_count": 6,
   "id": "117adb9f",
   "metadata": {},
   "outputs": [
    {
     "name": "stdout",
     "output_type": "stream",
     "text": [
      "OpenCV(4.8.0) D:\\a\\opencv-python\\opencv-python\\opencv\\modules\\imgproc\\src\\resize.cpp:4062: error: (-215:Assertion failed) !ssize.empty() in function 'cv::resize'\n",
      "\n",
      "OpenCV(4.8.0) D:\\a\\opencv-python\\opencv-python\\opencv\\modules\\imgproc\\src\\resize.cpp:4062: error: (-215:Assertion failed) !ssize.empty() in function 'cv::resize'\n",
      "\n",
      "OpenCV(4.8.0) D:\\a\\opencv-python\\opencv-python\\opencv\\modules\\imgproc\\src\\resize.cpp:4062: error: (-215:Assertion failed) !ssize.empty() in function 'cv::resize'\n",
      "\n",
      "OpenCV(4.8.0) D:\\a\\opencv-python\\opencv-python\\opencv\\modules\\imgproc\\src\\resize.cpp:4062: error: (-215:Assertion failed) !ssize.empty() in function 'cv::resize'\n",
      "\n",
      "OpenCV(4.8.0) D:\\a\\opencv-python\\opencv-python\\opencv\\modules\\imgproc\\src\\resize.cpp:4062: error: (-215:Assertion failed) !ssize.empty() in function 'cv::resize'\n",
      "\n",
      "OpenCV(4.8.0) D:\\a\\opencv-python\\opencv-python\\opencv\\modules\\imgproc\\src\\resize.cpp:4062: error: (-215:Assertion failed) !ssize.empty() in function 'cv::resize'\n",
      "\n",
      "OpenCV(4.8.0) D:\\a\\opencv-python\\opencv-python\\opencv\\modules\\imgproc\\src\\resize.cpp:4062: error: (-215:Assertion failed) !ssize.empty() in function 'cv::resize'\n",
      "\n",
      "OpenCV(4.8.0) D:\\a\\opencv-python\\opencv-python\\opencv\\modules\\imgproc\\src\\resize.cpp:4062: error: (-215:Assertion failed) !ssize.empty() in function 'cv::resize'\n",
      "\n",
      "OpenCV(4.8.0) D:\\a\\opencv-python\\opencv-python\\opencv\\modules\\imgproc\\src\\resize.cpp:4062: error: (-215:Assertion failed) !ssize.empty() in function 'cv::resize'\n",
      "\n",
      "OpenCV(4.8.0) D:\\a\\opencv-python\\opencv-python\\opencv\\modules\\imgproc\\src\\resize.cpp:4062: error: (-215:Assertion failed) !ssize.empty() in function 'cv::resize'\n",
      "\n",
      "OpenCV(4.8.0) D:\\a\\opencv-python\\opencv-python\\opencv\\modules\\imgproc\\src\\resize.cpp:4062: error: (-215:Assertion failed) !ssize.empty() in function 'cv::resize'\n",
      "\n",
      "OpenCV(4.8.0) D:\\a\\opencv-python\\opencv-python\\opencv\\modules\\imgproc\\src\\resize.cpp:4062: error: (-215:Assertion failed) !ssize.empty() in function 'cv::resize'\n",
      "\n",
      "OpenCV(4.8.0) D:\\a\\opencv-python\\opencv-python\\opencv\\modules\\imgproc\\src\\resize.cpp:4062: error: (-215:Assertion failed) !ssize.empty() in function 'cv::resize'\n",
      "\n",
      "OpenCV(4.8.0) D:\\a\\opencv-python\\opencv-python\\opencv\\modules\\imgproc\\src\\resize.cpp:4062: error: (-215:Assertion failed) !ssize.empty() in function 'cv::resize'\n",
      "\n",
      "OpenCV(4.8.0) D:\\a\\opencv-python\\opencv-python\\opencv\\modules\\imgproc\\src\\resize.cpp:4062: error: (-215:Assertion failed) !ssize.empty() in function 'cv::resize'\n",
      "\n",
      "OpenCV(4.8.0) D:\\a\\opencv-python\\opencv-python\\opencv\\modules\\imgproc\\src\\resize.cpp:4062: error: (-215:Assertion failed) !ssize.empty() in function 'cv::resize'\n",
      "\n",
      "OpenCV(4.8.0) D:\\a\\opencv-python\\opencv-python\\opencv\\modules\\imgproc\\src\\resize.cpp:4062: error: (-215:Assertion failed) !ssize.empty() in function 'cv::resize'\n",
      "\n",
      "OpenCV(4.8.0) D:\\a\\opencv-python\\opencv-python\\opencv\\modules\\imgproc\\src\\resize.cpp:4062: error: (-215:Assertion failed) !ssize.empty() in function 'cv::resize'\n",
      "\n",
      "OpenCV(4.8.0) D:\\a\\opencv-python\\opencv-python\\opencv\\modules\\imgproc\\src\\resize.cpp:4062: error: (-215:Assertion failed) !ssize.empty() in function 'cv::resize'\n",
      "\n",
      "OpenCV(4.8.0) D:\\a\\opencv-python\\opencv-python\\opencv\\modules\\imgproc\\src\\resize.cpp:4062: error: (-215:Assertion failed) !ssize.empty() in function 'cv::resize'\n",
      "\n",
      "OpenCV(4.8.0) D:\\a\\opencv-python\\opencv-python\\opencv\\modules\\imgproc\\src\\resize.cpp:4062: error: (-215:Assertion failed) !ssize.empty() in function 'cv::resize'\n",
      "\n",
      "OpenCV(4.8.0) D:\\a\\opencv-python\\opencv-python\\opencv\\modules\\imgproc\\src\\resize.cpp:4062: error: (-215:Assertion failed) !ssize.empty() in function 'cv::resize'\n",
      "\n",
      "OpenCV(4.8.0) D:\\a\\opencv-python\\opencv-python\\opencv\\modules\\imgproc\\src\\resize.cpp:4062: error: (-215:Assertion failed) !ssize.empty() in function 'cv::resize'\n",
      "\n",
      "OpenCV(4.8.0) D:\\a\\opencv-python\\opencv-python\\opencv\\modules\\imgproc\\src\\resize.cpp:4062: error: (-215:Assertion failed) !ssize.empty() in function 'cv::resize'\n",
      "\n",
      "OpenCV(4.8.0) D:\\a\\opencv-python\\opencv-python\\opencv\\modules\\imgproc\\src\\resize.cpp:4062: error: (-215:Assertion failed) !ssize.empty() in function 'cv::resize'\n",
      "\n",
      "OpenCV(4.8.0) D:\\a\\opencv-python\\opencv-python\\opencv\\modules\\imgproc\\src\\resize.cpp:4062: error: (-215:Assertion failed) !ssize.empty() in function 'cv::resize'\n",
      "\n",
      "OpenCV(4.8.0) D:\\a\\opencv-python\\opencv-python\\opencv\\modules\\imgproc\\src\\resize.cpp:4062: error: (-215:Assertion failed) !ssize.empty() in function 'cv::resize'\n",
      "\n",
      "OpenCV(4.8.0) D:\\a\\opencv-python\\opencv-python\\opencv\\modules\\imgproc\\src\\resize.cpp:4062: error: (-215:Assertion failed) !ssize.empty() in function 'cv::resize'\n",
      "\n",
      "OpenCV(4.8.0) D:\\a\\opencv-python\\opencv-python\\opencv\\modules\\imgproc\\src\\resize.cpp:4062: error: (-215:Assertion failed) !ssize.empty() in function 'cv::resize'\n",
      "\n",
      "OpenCV(4.8.0) D:\\a\\opencv-python\\opencv-python\\opencv\\modules\\imgproc\\src\\resize.cpp:4062: error: (-215:Assertion failed) !ssize.empty() in function 'cv::resize'\n",
      "\n",
      "OpenCV(4.8.0) D:\\a\\opencv-python\\opencv-python\\opencv\\modules\\imgproc\\src\\resize.cpp:4062: error: (-215:Assertion failed) !ssize.empty() in function 'cv::resize'\n",
      "\n"
     ]
    }
   ],
   "source": [
    "data=get_data(\"signs/\")"
   ]
  },
  {
   "cell_type": "code",
   "execution_count": 7,
   "id": "a966249d",
   "metadata": {},
   "outputs": [],
   "source": [
    "# separate item and label\n",
    "X = []\n",
    "y = []\n",
    "for item, label in data:\n",
    "    X.append(item)\n",
    "    y.append(label)"
   ]
  },
  {
   "cell_type": "code",
   "execution_count": 8,
   "id": "f94fba65",
   "metadata": {},
   "outputs": [],
   "source": [
    "X = np.array(X) / 255 # Normaliation( Now the array will remain 0-1)\n",
    "y = np.array(y)"
   ]
  },
  {
   "cell_type": "markdown",
   "id": "a3bb14a4",
   "metadata": {},
   "source": [
    "### LabelBinarizer is a technique used to convert categorical labels into binary vectors"
   ]
  },
  {
   "cell_type": "code",
   "execution_count": 9,
   "id": "4f2de982",
   "metadata": {},
   "outputs": [],
   "source": [
    "from sklearn.preprocessing import LabelBinarizer # LabelBinarizer\n",
    "label_binarizer = LabelBinarizer()\n",
    "y = label_binarizer.fit_transform(y)"
   ]
  },
  {
   "cell_type": "code",
   "execution_count": 10,
   "id": "004416a4",
   "metadata": {},
   "outputs": [
    {
     "data": {
      "text/plain": [
       "array([[1, 0, 0, 0],\n",
       "       [1, 0, 0, 0],\n",
       "       [1, 0, 0, 0],\n",
       "       ...,\n",
       "       [0, 0, 0, 1],\n",
       "       [0, 0, 0, 1],\n",
       "       [0, 0, 0, 1]])"
      ]
     },
     "execution_count": 10,
     "metadata": {},
     "output_type": "execute_result"
    }
   ],
   "source": [
    "y"
   ]
  },
  {
   "cell_type": "markdown",
   "id": "1e25a6af",
   "metadata": {},
   "source": [
    "### Splitting the data into training and test set\n"
   ]
  },
  {
   "cell_type": "code",
   "execution_count": 11,
   "id": "6e6cb1a5",
   "metadata": {},
   "outputs": [],
   "source": [
    "from sklearn.model_selection import train_test_split\n",
    "\n",
    "x_train, x_test, y_train, y_test = train_test_split(X,y, \n",
    "                                                    test_size=0.20, \n",
    "                                                    random_state=42\n",
    "                                                   )"
   ]
  },
  {
   "cell_type": "markdown",
   "id": "7e03a426",
   "metadata": {},
   "source": [
    "\n",
    "\n",
    "### CNN model design and training"
   ]
  },
  {
   "cell_type": "code",
   "execution_count": 12,
   "id": "45e42f52",
   "metadata": {},
   "outputs": [],
   "source": [
    "model = Sequential()\n",
    "\n",
    "model.add(Conv2D(32, (3, 3), input_shape=x_train.shape[1:]))\n",
    "model.add(Activation(\"relu\"))\n",
    "model.add(MaxPooling2D(2, 2, padding=\"same\"))\n",
    "model.add(Dropout(0.2))\n",
    "\n",
    "model.add(Conv2D(64, (3, 3)))\n",
    "model.add(Activation(\"relu\"))\n",
    "model.add(MaxPooling2D(2, 2, padding=\"same\"))\n",
    "model.add(Dropout(0.2))\n",
    "\n",
    "model.add(Conv2D(128, (3, 3)))\n",
    "model.add(Activation(\"relu\"))\n",
    "model.add(MaxPooling2D(2, 2, padding=\"same\"))\n",
    "model.add(Dropout(0.2))\n",
    "\n",
    "model.add(Flatten())\n",
    "model.add(Dense(512, activation=\"relu\"))\n",
    "model.add(Dropout(0.2))\n",
    "model.add(Dense(128, activation=\"relu\"))\n",
    "model.add(Dropout(0.2))\n",
    "model.add(Dense(4, activation=\"softmax\")) #final dense layer has 4 neurons"
   ]
  },
  {
   "cell_type": "code",
   "execution_count": 13,
   "id": "b2c0daf0",
   "metadata": {
    "scrolled": true
   },
   "outputs": [
    {
     "name": "stdout",
     "output_type": "stream",
     "text": [
      "Model: \"sequential\"\n",
      "_________________________________________________________________\n",
      " Layer (type)                Output Shape              Param #   \n",
      "=================================================================\n",
      " conv2d (Conv2D)             (None, 222, 222, 32)      896       \n",
      "                                                                 \n",
      " activation (Activation)     (None, 222, 222, 32)      0         \n",
      "                                                                 \n",
      " max_pooling2d (MaxPooling2  (None, 111, 111, 32)      0         \n",
      " D)                                                              \n",
      "                                                                 \n",
      " dropout (Dropout)           (None, 111, 111, 32)      0         \n",
      "                                                                 \n",
      " conv2d_1 (Conv2D)           (None, 109, 109, 64)      18496     \n",
      "                                                                 \n",
      " activation_1 (Activation)   (None, 109, 109, 64)      0         \n",
      "                                                                 \n",
      " max_pooling2d_1 (MaxPoolin  (None, 55, 55, 64)        0         \n",
      " g2D)                                                            \n",
      "                                                                 \n",
      " dropout_1 (Dropout)         (None, 55, 55, 64)        0         \n",
      "                                                                 \n",
      " conv2d_2 (Conv2D)           (None, 53, 53, 128)       73856     \n",
      "                                                                 \n",
      " activation_2 (Activation)   (None, 53, 53, 128)       0         \n",
      "                                                                 \n",
      " max_pooling2d_2 (MaxPoolin  (None, 27, 27, 128)       0         \n",
      " g2D)                                                            \n",
      "                                                                 \n",
      " dropout_2 (Dropout)         (None, 27, 27, 128)       0         \n",
      "                                                                 \n",
      " flatten (Flatten)           (None, 93312)             0         \n",
      "                                                                 \n",
      " dense (Dense)               (None, 512)               47776256  \n",
      "                                                                 \n",
      " dropout_3 (Dropout)         (None, 512)               0         \n",
      "                                                                 \n",
      " dense_1 (Dense)             (None, 128)               65664     \n",
      "                                                                 \n",
      " dropout_4 (Dropout)         (None, 128)               0         \n",
      "                                                                 \n",
      " dense_2 (Dense)             (None, 4)                 516       \n",
      "                                                                 \n",
      "=================================================================\n",
      "Total params: 47935684 (182.86 MB)\n",
      "Trainable params: 47935684 (182.86 MB)\n",
      "Non-trainable params: 0 (0.00 Byte)\n",
      "_________________________________________________________________\n"
     ]
    }
   ],
   "source": [
    "model.summary()\n"
   ]
  },
  {
   "cell_type": "code",
   "execution_count": 14,
   "id": "75699cde",
   "metadata": {},
   "outputs": [
    {
     "name": "stdout",
     "output_type": "stream",
     "text": [
      "You must install pydot (`pip install pydot`) and install graphviz (see instructions at https://graphviz.gitlab.io/download/) for plot_model to work.\n"
     ]
    }
   ],
   "source": [
    "tf.keras.utils.plot_model(model, to_file='model1.png')"
   ]
  },
  {
   "cell_type": "code",
   "execution_count": 15,
   "id": "14859ae9",
   "metadata": {},
   "outputs": [],
   "source": [
    "model.compile(loss=\"categorical_crossentropy\",\n",
    "              optimizer=\"adam\", \n",
    "              metrics=[\"accuracy\"])"
   ]
  },
  {
   "cell_type": "markdown",
   "id": "450cf331",
   "metadata": {},
   "source": [
    "from keras.callbacks import EarlyStopping\n",
    "early_stopping = EarlyStopping(monitor='val_loss', patience=2)"
   ]
  },
  {
   "cell_type": "code",
   "execution_count": 16,
   "id": "af8dd4ba",
   "metadata": {},
   "outputs": [
    {
     "name": "stdout",
     "output_type": "stream",
     "text": [
      "Epoch 1/10\n",
      "108/108 [==============================] - 169s 2s/step - loss: 1.2424 - accuracy: 0.5291 - val_loss: 0.6492 - val_accuracy: 0.6973\n",
      "Epoch 2/10\n",
      "108/108 [==============================] - 164s 2s/step - loss: 0.5493 - accuracy: 0.7847 - val_loss: 0.3935 - val_accuracy: 0.8428\n",
      "Epoch 3/10\n",
      "108/108 [==============================] - 155s 1s/step - loss: 0.3524 - accuracy: 0.8756 - val_loss: 0.2996 - val_accuracy: 0.9080\n",
      "Epoch 4/10\n",
      "108/108 [==============================] - 156s 1s/step - loss: 0.2641 - accuracy: 0.9140 - val_loss: 0.2806 - val_accuracy: 0.9034\n",
      "Epoch 5/10\n",
      "108/108 [==============================] - 157s 1s/step - loss: 0.1764 - accuracy: 0.9452 - val_loss: 0.2175 - val_accuracy: 0.9278\n",
      "Epoch 6/10\n",
      "108/108 [==============================] - 155s 1s/step - loss: 0.1659 - accuracy: 0.9461 - val_loss: 0.2013 - val_accuracy: 0.9371\n",
      "Epoch 7/10\n",
      "108/108 [==============================] - 157s 1s/step - loss: 0.1372 - accuracy: 0.9615 - val_loss: 0.1930 - val_accuracy: 0.9534\n",
      "Epoch 8/10\n",
      "108/108 [==============================] - 156s 1s/step - loss: 0.0878 - accuracy: 0.9720 - val_loss: 0.2302 - val_accuracy: 0.9302\n",
      "Epoch 9/10\n",
      "108/108 [==============================] - 157s 1s/step - loss: 0.0518 - accuracy: 0.9846 - val_loss: 0.1313 - val_accuracy: 0.9709\n",
      "Epoch 10/10\n",
      "108/108 [==============================] - 155s 1s/step - loss: 0.0702 - accuracy: 0.9802 - val_loss: 0.1711 - val_accuracy: 0.9534\n"
     ]
    }
   ],
   "source": [
    "history = model.fit(x_train, y_train, \n",
    "                    epochs=10, validation_data=(x_test, y_test), \n",
    "                    batch_size=32) # training part with 10 epochs\n",
    "# callbacks=[early_stopping]"
   ]
  },
  {
   "cell_type": "code",
   "execution_count": 17,
   "id": "a35f90a0",
   "metadata": {},
   "outputs": [
    {
     "data": {
      "image/png": "[encoded data removed]",
      "text/plain": [
       "<Figure size 1400x500 with 2 Axes>"
      ]
     },
     "metadata": {},
     "output_type": "display_data"
    }
   ],
   "source": [
    "fig , ax = plt.subplots(1,2, figsize=(14,5))\n",
    "ax[0].plot(history.history['accuracy'])\n",
    "ax[0].plot(history.history['val_accuracy'])\n",
    "ax[0].set_title('model accuracy')\n",
    "ax[0].set_ylabel('accuracy')\n",
    "ax[0].set_xlabel('epoch')\n",
    "ax[0].legend(['train', 'test'], loc='upper left')\n",
    "\n",
    "ax[1].plot(history.history['loss'])\n",
    "ax[1].plot(history.history['val_loss'])\n",
    "ax[1].set_title('model loss')\n",
    "ax[1].set_ylabel('loss')\n",
    "ax[1].set_xlabel('epoch')\n",
    "ax[1].legend(['train', 'test'], loc='upper left')\n",
    "plt.show()"
   ]
  },
  {
   "cell_type": "code",
   "execution_count": 18,
   "id": "de6ac78a",
   "metadata": {},
   "outputs": [
    {
     "name": "stdout",
     "output_type": "stream",
     "text": [
      "training_accuracy 0.9801864624023438\n",
      "validation_accuracy 0.9534342288970947\n"
     ]
    }
   ],
   "source": [
    "print(\"training_accuracy\", history.history['accuracy'][-1])\n",
    "print(\"validation_accuracy\", history.history['val_accuracy'][-1])"
   ]
  },
  {
   "cell_type": "code",
   "execution_count": 19,
   "id": "2dbfcdb9",
   "metadata": {},
   "outputs": [
    {
     "name": "stdout",
     "output_type": "stream",
     "text": [
      "27/27 [==============================] - 6s 222ms/step - loss: 0.1711 - accuracy: 0.9534\n",
      "INFO:tensorflow:Assets written to: cnn_10_noTL.model\\assets\n"
     ]
    },
    {
     "name": "stderr",
     "output_type": "stream",
     "text": [
      "INFO:tensorflow:Assets written to: cnn_10_noTL.model\\assets\n"
     ]
    }
   ],
   "source": [
    "score = model.evaluate(x_test, y_test)\n",
    "model.save(\"cnn_10_noTL.model\") # save model"
   ]
  },
  {
   "cell_type": "markdown",
   "id": "5d538e80",
   "metadata": {},
   "source": [
    "## 5. Labeling & Prediction"
   ]
  },
  {
   "cell_type": "code",
   "execution_count": 20,
   "id": "d1128087",
   "metadata": {},
   "outputs": [],
   "source": [
    "y_test_inv = label_binarizer.inverse_transform(y_test)"
   ]
  },
  {
   "cell_type": "code",
   "execution_count": 21,
   "id": "13c06404",
   "metadata": {},
   "outputs": [
    {
     "name": "stdout",
     "output_type": "stream",
     "text": [
      "27/27 [==============================] - 7s 241ms/step\n"
     ]
    }
   ],
   "source": [
    "predict_x=model.predict(x_test) \n",
    "classes_x=np.argmax(predict_x,axis=1)"
   ]
  },
  {
   "cell_type": "code",
   "execution_count": 22,
   "id": "27dc5e99",
   "metadata": {},
   "outputs": [
    {
     "data": {
      "text/plain": [
       "array([3, 1, 3, 3, 3], dtype=int64)"
      ]
     },
     "execution_count": 22,
     "metadata": {},
     "output_type": "execute_result"
    }
   ],
   "source": [
    "classes_x[:5]"
   ]
  },
  {
   "cell_type": "code",
   "execution_count": 23,
   "id": "d440eb5b",
   "metadata": {},
   "outputs": [],
   "source": [
    "from sklearn.metrics import confusion_matrix,ConfusionMatrixDisplay,classification_report"
   ]
  },
  {
   "cell_type": "code",
   "execution_count": 24,
   "id": "8ba40f1b",
   "metadata": {},
   "outputs": [],
   "source": [
    "cm=confusion_matrix(y_test_inv,classes_x)"
   ]
  },
  {
   "cell_type": "code",
   "execution_count": 25,
   "id": "df3cf2e7",
   "metadata": {
    "scrolled": true
   },
   "outputs": [
    {
     "data": {
      "image/png": "[encoded data removed]",
      "text/plain": [
       "<Figure size 640x480 with 2 Axes>"
      ]
     },
     "metadata": {},
     "output_type": "display_data"
    }
   ],
   "source": [
    "cm_display = ConfusionMatrixDisplay(confusion_matrix = cm, \n",
    "                                    display_labels = ['handicap', 'stop', 'speed limit', 'yield'])\n",
    "\n",
    "cm_display.plot()\n",
    "plt.show()"
   ]
  },
  {
   "cell_type": "code",
   "execution_count": 26,
   "id": "539e315f",
   "metadata": {
    "scrolled": true
   },
   "outputs": [
    {
     "name": "stdout",
     "output_type": "stream",
     "text": [
      "              precision    recall  f1-score   support\n",
      "\n",
      "           0       1.00      0.99      1.00       209\n",
      "           1       0.94      0.91      0.93       220\n",
      "           2       0.98      0.95      0.96       222\n",
      "           3       0.90      0.96      0.93       208\n",
      "\n",
      "    accuracy                           0.95       859\n",
      "   macro avg       0.95      0.95      0.95       859\n",
      "weighted avg       0.95      0.95      0.95       859\n",
      "\n"
     ]
    }
   ],
   "source": [
    "print(classification_report(y_test_inv,classes_x))"
   ]
  },
  {
   "cell_type": "code",
   "execution_count": 42,
   "id": "1165b890",
   "metadata": {},
   "outputs": [],
   "source": [
    "from tensorflow import keras\n",
    "model_new = keras.models.load_model('cnn_10_noTL.model')"
   ]
  },
  {
   "cell_type": "code",
   "execution_count": 50,
   "id": "219f7517",
   "metadata": {},
   "outputs": [],
   "source": [
    "from keras.preprocessing import image\n",
    "test_image = image.load_img('prediction/yield2.jpg',\n",
    "                           target_size=(224,224))"
   ]
  },
  {
   "cell_type": "code",
   "execution_count": 51,
   "id": "09cbb7d0",
   "metadata": {},
   "outputs": [],
   "source": [
    "test_image = image.img_to_array(test_image)\n",
    "test_image = np.expand_dims(test_image, axis=0)"
   ]
  },
  {
   "cell_type": "code",
   "execution_count": 52,
   "id": "f5eb41c1",
   "metadata": {},
   "outputs": [
    {
     "name": "stdout",
     "output_type": "stream",
     "text": [
      "1/1 [==============================] - 0s 63ms/step\n"
     ]
    }
   ],
   "source": [
    "predict_x = model_new.predict(test_image/255.0) \n",
    "classes_x = np.round(predict_x).astype(int)"
   ]
  },
  {
   "cell_type": "code",
   "execution_count": 53,
   "id": "eba4f155",
   "metadata": {},
   "outputs": [
    {
     "data": {
      "text/plain": [
       "array([[1, 0, 0, 0]])"
      ]
     },
     "execution_count": 53,
     "metadata": {},
     "output_type": "execute_result"
    }
   ],
   "source": [
    "classes_x"
   ]
  },
  {
   "cell_type": "code",
   "execution_count": 54,
   "id": "ac22ac8b",
   "metadata": {},
   "outputs": [],
   "source": [
    "handicap = np.array([1,0,0,0])\n",
    "stop = np.array([0,1,0,0])\n",
    "speed_limit = np.array([0,0,1,0])\n",
    "yield_sign = np.array([0,0,0,1])"
   ]
  },
  {
   "cell_type": "code",
   "execution_count": 55,
   "id": "9eca0b9d",
   "metadata": {},
   "outputs": [
    {
     "name": "stdout",
     "output_type": "stream",
     "text": [
      "handicap sign\n"
     ]
    }
   ],
   "source": [
    "if np.array_equal(classes_x[0], handicap):\n",
    "    prediction='handicap sign'\n",
    "elif np.array_equal(classes_x[0], stop):\n",
    "    prediction='stop sign'\n",
    "elif np.array_equal(classes_x[0], speed_limit):\n",
    "    prediction = 'speed limit sign'\n",
    "else:\n",
    "    prediction = 'yield sign'\n",
    "print(prediction)"
   ]
  }
 ],
 "metadata": {
  "kernelspec": {
   "display_name": "Python 3 (ipykernel)",
   "language": "python",
   "name": "python3"
  },
  "language_info": {
   "codemirror_mode": {
    "name": "ipython",
    "version": 3
   },
   "file_extension": ".py",
   "mimetype": "text/x-python",
   "name": "python",
   "nbconvert_exporter": "python",
   "pygments_lexer": "ipython3",
   "version": "3.11.4"
  }
 },
 "nbformat": 4,
 "nbformat_minor": 5
}
